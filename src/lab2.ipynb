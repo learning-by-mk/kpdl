{
 "cells": [
  {
   "cell_type": "code",
   "execution_count": 1,
   "metadata": {},
   "outputs": [],
   "source": [
    "import pandas as pd\n",
    "import numpy as np\n",
    "from sklearn.preprocessing import StandardScaler\n",
    "import seaborn as sns\n",
    "import matplotlib.pyplot as plt"
   ]
  },
  {
   "cell_type": "code",
   "execution_count": 2,
   "metadata": {},
   "outputs": [
    {
     "data": {
      "text/html": [
       "<div>\n",
       "<style scoped>\n",
       "    .dataframe tbody tr th:only-of-type {\n",
       "        vertical-align: middle;\n",
       "    }\n",
       "\n",
       "    .dataframe tbody tr th {\n",
       "        vertical-align: top;\n",
       "    }\n",
       "\n",
       "    .dataframe thead th {\n",
       "        text-align: right;\n",
       "    }\n",
       "</style>\n",
       "<table border=\"1\" class=\"dataframe\">\n",
       "  <thead>\n",
       "    <tr style=\"text-align: right;\">\n",
       "      <th></th>\n",
       "      <th>a</th>\n",
       "      <th>b</th>\n",
       "      <th>x</th>\n",
       "      <th>y</th>\n",
       "    </tr>\n",
       "  </thead>\n",
       "  <tbody>\n",
       "    <tr>\n",
       "      <th>0</th>\n",
       "      <td>1.0</td>\n",
       "      <td>6.0</td>\n",
       "      <td>11.0</td>\n",
       "      <td>16.0</td>\n",
       "    </tr>\n",
       "    <tr>\n",
       "      <th>1</th>\n",
       "      <td>2.0</td>\n",
       "      <td>7.0</td>\n",
       "      <td>12.0</td>\n",
       "      <td>NaN</td>\n",
       "    </tr>\n",
       "    <tr>\n",
       "      <th>2</th>\n",
       "      <td>3.0</td>\n",
       "      <td>8.0</td>\n",
       "      <td>13.0</td>\n",
       "      <td>NaN</td>\n",
       "    </tr>\n",
       "    <tr>\n",
       "      <th>3</th>\n",
       "      <td>4.0</td>\n",
       "      <td>NaN</td>\n",
       "      <td>NaN</td>\n",
       "      <td>19.0</td>\n",
       "    </tr>\n",
       "    <tr>\n",
       "      <th>4</th>\n",
       "      <td>NaN</td>\n",
       "      <td>NaN</td>\n",
       "      <td>NaN</td>\n",
       "      <td>NaN</td>\n",
       "    </tr>\n",
       "  </tbody>\n",
       "</table>\n",
       "</div>"
      ],
      "text/plain": [
       "     a    b     x     y\n",
       "0  1.0  6.0  11.0  16.0\n",
       "1  2.0  7.0  12.0   NaN\n",
       "2  3.0  8.0  13.0   NaN\n",
       "3  4.0  NaN   NaN  19.0\n",
       "4  NaN  NaN   NaN   NaN"
      ]
     },
     "execution_count": 2,
     "metadata": {},
     "output_type": "execute_result"
    }
   ],
   "source": [
    "df = pd.DataFrame({'a': [1, 2, 3, 4, np.nan],\n",
    "                   'b': [6, 7, 8, np.nan, np.nan],\n",
    "                   'x': [11, 12, 13, np.nan, np.nan],\n",
    "                   'y': [16,np.nan,np.nan,19,np.nan]})\n",
    "df"
   ]
  },
  {
   "cell_type": "markdown",
   "metadata": {},
   "source": [
    "### Bài 1"
   ]
  },
  {
   "cell_type": "code",
   "execution_count": 3,
   "metadata": {},
   "outputs": [
    {
     "data": {
      "text/html": [
       "<div>\n",
       "<style scoped>\n",
       "    .dataframe tbody tr th:only-of-type {\n",
       "        vertical-align: middle;\n",
       "    }\n",
       "\n",
       "    .dataframe tbody tr th {\n",
       "        vertical-align: top;\n",
       "    }\n",
       "\n",
       "    .dataframe thead th {\n",
       "        text-align: right;\n",
       "    }\n",
       "</style>\n",
       "<table border=\"1\" class=\"dataframe\">\n",
       "  <thead>\n",
       "    <tr style=\"text-align: right;\">\n",
       "      <th></th>\n",
       "      <th>a</th>\n",
       "      <th>b</th>\n",
       "      <th>x</th>\n",
       "      <th>y</th>\n",
       "    </tr>\n",
       "  </thead>\n",
       "  <tbody>\n",
       "    <tr>\n",
       "      <th>0</th>\n",
       "      <td>1.0</td>\n",
       "      <td>6.0</td>\n",
       "      <td>11.0</td>\n",
       "      <td>16.0</td>\n",
       "    </tr>\n",
       "    <tr>\n",
       "      <th>1</th>\n",
       "      <td>2.0</td>\n",
       "      <td>7.0</td>\n",
       "      <td>12.0</td>\n",
       "      <td>0.0</td>\n",
       "    </tr>\n",
       "    <tr>\n",
       "      <th>2</th>\n",
       "      <td>3.0</td>\n",
       "      <td>8.0</td>\n",
       "      <td>13.0</td>\n",
       "      <td>0.0</td>\n",
       "    </tr>\n",
       "    <tr>\n",
       "      <th>3</th>\n",
       "      <td>4.0</td>\n",
       "      <td>0.0</td>\n",
       "      <td>0.0</td>\n",
       "      <td>19.0</td>\n",
       "    </tr>\n",
       "    <tr>\n",
       "      <th>4</th>\n",
       "      <td>0.0</td>\n",
       "      <td>0.0</td>\n",
       "      <td>0.0</td>\n",
       "      <td>0.0</td>\n",
       "    </tr>\n",
       "  </tbody>\n",
       "</table>\n",
       "</div>"
      ],
      "text/plain": [
       "     a    b     x     y\n",
       "0  1.0  6.0  11.0  16.0\n",
       "1  2.0  7.0  12.0   0.0\n",
       "2  3.0  8.0  13.0   0.0\n",
       "3  4.0  0.0   0.0  19.0\n",
       "4  0.0  0.0   0.0   0.0"
      ]
     },
     "execution_count": 3,
     "metadata": {},
     "output_type": "execute_result"
    }
   ],
   "source": [
    "# 1\n",
    "df.replace(np.nan, 0)\n",
    "# or\n",
    "df.fillna(0)"
   ]
  },
  {
   "cell_type": "code",
   "execution_count": 4,
   "metadata": {},
   "outputs": [
    {
     "data": {
      "text/html": [
       "<div>\n",
       "<style scoped>\n",
       "    .dataframe tbody tr th:only-of-type {\n",
       "        vertical-align: middle;\n",
       "    }\n",
       "\n",
       "    .dataframe tbody tr th {\n",
       "        vertical-align: top;\n",
       "    }\n",
       "\n",
       "    .dataframe thead th {\n",
       "        text-align: right;\n",
       "    }\n",
       "</style>\n",
       "<table border=\"1\" class=\"dataframe\">\n",
       "  <thead>\n",
       "    <tr style=\"text-align: right;\">\n",
       "      <th></th>\n",
       "      <th>a</th>\n",
       "      <th>b</th>\n",
       "      <th>x</th>\n",
       "      <th>y</th>\n",
       "    </tr>\n",
       "  </thead>\n",
       "  <tbody>\n",
       "    <tr>\n",
       "      <th>0</th>\n",
       "      <td>1.0</td>\n",
       "      <td>6.0</td>\n",
       "      <td>11.0</td>\n",
       "      <td>16.0</td>\n",
       "    </tr>\n",
       "    <tr>\n",
       "      <th>1</th>\n",
       "      <td>2.0</td>\n",
       "      <td>7.0</td>\n",
       "      <td>12.0</td>\n",
       "      <td>17.5</td>\n",
       "    </tr>\n",
       "    <tr>\n",
       "      <th>2</th>\n",
       "      <td>3.0</td>\n",
       "      <td>8.0</td>\n",
       "      <td>13.0</td>\n",
       "      <td>17.5</td>\n",
       "    </tr>\n",
       "    <tr>\n",
       "      <th>3</th>\n",
       "      <td>4.0</td>\n",
       "      <td>7.0</td>\n",
       "      <td>12.0</td>\n",
       "      <td>19.0</td>\n",
       "    </tr>\n",
       "    <tr>\n",
       "      <th>4</th>\n",
       "      <td>2.5</td>\n",
       "      <td>7.0</td>\n",
       "      <td>12.0</td>\n",
       "      <td>17.5</td>\n",
       "    </tr>\n",
       "  </tbody>\n",
       "</table>\n",
       "</div>"
      ],
      "text/plain": [
       "     a    b     x     y\n",
       "0  1.0  6.0  11.0  16.0\n",
       "1  2.0  7.0  12.0  17.5\n",
       "2  3.0  8.0  13.0  17.5\n",
       "3  4.0  7.0  12.0  19.0\n",
       "4  2.5  7.0  12.0  17.5"
      ]
     },
     "execution_count": 4,
     "metadata": {},
     "output_type": "execute_result"
    }
   ],
   "source": [
    "# 2\n",
    "median = df.fillna(df.median(), inplace=False)\n",
    "median"
   ]
  },
  {
   "cell_type": "code",
   "execution_count": 37,
   "metadata": {},
   "outputs": [
    {
     "data": {
      "text/html": [
       "<div>\n",
       "<style scoped>\n",
       "    .dataframe tbody tr th:only-of-type {\n",
       "        vertical-align: middle;\n",
       "    }\n",
       "\n",
       "    .dataframe tbody tr th {\n",
       "        vertical-align: top;\n",
       "    }\n",
       "\n",
       "    .dataframe thead th {\n",
       "        text-align: right;\n",
       "    }\n",
       "</style>\n",
       "<table border=\"1\" class=\"dataframe\">\n",
       "  <thead>\n",
       "    <tr style=\"text-align: right;\">\n",
       "      <th></th>\n",
       "      <th>a</th>\n",
       "      <th>b</th>\n",
       "      <th>x</th>\n",
       "      <th>y</th>\n",
       "    </tr>\n",
       "  </thead>\n",
       "  <tbody>\n",
       "    <tr>\n",
       "      <th>0</th>\n",
       "      <td>1.0</td>\n",
       "      <td>6.0</td>\n",
       "      <td>11.0</td>\n",
       "      <td>16.0</td>\n",
       "    </tr>\n",
       "    <tr>\n",
       "      <th>1</th>\n",
       "      <td>2.0</td>\n",
       "      <td>7.0</td>\n",
       "      <td>12.0</td>\n",
       "      <td>16.0</td>\n",
       "    </tr>\n",
       "    <tr>\n",
       "      <th>2</th>\n",
       "      <td>3.0</td>\n",
       "      <td>8.0</td>\n",
       "      <td>13.0</td>\n",
       "      <td>16.0</td>\n",
       "    </tr>\n",
       "    <tr>\n",
       "      <th>3</th>\n",
       "      <td>4.0</td>\n",
       "      <td>6.0</td>\n",
       "      <td>11.0</td>\n",
       "      <td>19.0</td>\n",
       "    </tr>\n",
       "    <tr>\n",
       "      <th>4</th>\n",
       "      <td>1.0</td>\n",
       "      <td>6.0</td>\n",
       "      <td>11.0</td>\n",
       "      <td>16.0</td>\n",
       "    </tr>\n",
       "  </tbody>\n",
       "</table>\n",
       "</div>"
      ],
      "text/plain": [
       "     a    b     x     y\n",
       "0  1.0  6.0  11.0  16.0\n",
       "1  2.0  7.0  12.0  16.0\n",
       "2  3.0  8.0  13.0  16.0\n",
       "3  4.0  6.0  11.0  19.0\n",
       "4  1.0  6.0  11.0  16.0"
      ]
     },
     "execution_count": 37,
     "metadata": {},
     "output_type": "execute_result"
    }
   ],
   "source": [
    "# 3 \n",
    "mode = df.fillna(df.mode().iloc[0], inplace=False)\n",
    "mode"
   ]
  },
  {
   "cell_type": "code",
   "execution_count": null,
   "metadata": {},
   "outputs": [
    {
     "data": {
      "text/html": [
       "<div>\n",
       "<style scoped>\n",
       "    .dataframe tbody tr th:only-of-type {\n",
       "        vertical-align: middle;\n",
       "    }\n",
       "\n",
       "    .dataframe tbody tr th {\n",
       "        vertical-align: top;\n",
       "    }\n",
       "\n",
       "    .dataframe thead th {\n",
       "        text-align: right;\n",
       "    }\n",
       "</style>\n",
       "<table border=\"1\" class=\"dataframe\">\n",
       "  <thead>\n",
       "    <tr style=\"text-align: right;\">\n",
       "      <th></th>\n",
       "      <th>a</th>\n",
       "      <th>b</th>\n",
       "      <th>x</th>\n",
       "      <th>y</th>\n",
       "    </tr>\n",
       "  </thead>\n",
       "  <tbody>\n",
       "    <tr>\n",
       "      <th>0</th>\n",
       "      <td>1.0</td>\n",
       "      <td>6.0</td>\n",
       "      <td>11.0</td>\n",
       "      <td>16.0</td>\n",
       "    </tr>\n",
       "  </tbody>\n",
       "</table>\n",
       "</div>"
      ],
      "text/plain": [
       "     a    b     x     y\n",
       "0  1.0  6.0  11.0  16.0"
      ]
     },
     "execution_count": 38,
     "metadata": {},
     "output_type": "execute_result"
    }
   ],
   "source": [
    "# 4\n",
    "dropped = df.dropna()\n",
    "dropped"
   ]
  },
  {
   "cell_type": "code",
   "execution_count": 40,
   "metadata": {},
   "outputs": [
    {
     "name": "stderr",
     "output_type": "stream",
     "text": [
      "C:\\Users\\khanh\\AppData\\Local\\Temp\\ipykernel_18968\\3799493383.py:2: FutureWarning: DataFrame.fillna with 'method' is deprecated and will raise in a future version. Use obj.ffill() or obj.bfill() instead.\n",
      "  df.fillna(method='ffill')\n",
      "C:\\Users\\khanh\\AppData\\Local\\Temp\\ipykernel_18968\\3799493383.py:3: FutureWarning: DataFrame.fillna with 'method' is deprecated and will raise in a future version. Use obj.ffill() or obj.bfill() instead.\n",
      "  df.fillna(method='bfill')\n"
     ]
    },
    {
     "data": {
      "text/html": [
       "<div>\n",
       "<style scoped>\n",
       "    .dataframe tbody tr th:only-of-type {\n",
       "        vertical-align: middle;\n",
       "    }\n",
       "\n",
       "    .dataframe tbody tr th {\n",
       "        vertical-align: top;\n",
       "    }\n",
       "\n",
       "    .dataframe thead th {\n",
       "        text-align: right;\n",
       "    }\n",
       "</style>\n",
       "<table border=\"1\" class=\"dataframe\">\n",
       "  <thead>\n",
       "    <tr style=\"text-align: right;\">\n",
       "      <th></th>\n",
       "      <th>a</th>\n",
       "      <th>b</th>\n",
       "      <th>x</th>\n",
       "      <th>y</th>\n",
       "    </tr>\n",
       "  </thead>\n",
       "  <tbody>\n",
       "    <tr>\n",
       "      <th>0</th>\n",
       "      <td>1.0</td>\n",
       "      <td>6.0</td>\n",
       "      <td>11.0</td>\n",
       "      <td>16.0</td>\n",
       "    </tr>\n",
       "    <tr>\n",
       "      <th>1</th>\n",
       "      <td>2.0</td>\n",
       "      <td>7.0</td>\n",
       "      <td>12.0</td>\n",
       "      <td>19.0</td>\n",
       "    </tr>\n",
       "    <tr>\n",
       "      <th>2</th>\n",
       "      <td>3.0</td>\n",
       "      <td>8.0</td>\n",
       "      <td>13.0</td>\n",
       "      <td>19.0</td>\n",
       "    </tr>\n",
       "    <tr>\n",
       "      <th>3</th>\n",
       "      <td>4.0</td>\n",
       "      <td>NaN</td>\n",
       "      <td>NaN</td>\n",
       "      <td>19.0</td>\n",
       "    </tr>\n",
       "    <tr>\n",
       "      <th>4</th>\n",
       "      <td>NaN</td>\n",
       "      <td>NaN</td>\n",
       "      <td>NaN</td>\n",
       "      <td>NaN</td>\n",
       "    </tr>\n",
       "  </tbody>\n",
       "</table>\n",
       "</div>"
      ],
      "text/plain": [
       "     a    b     x     y\n",
       "0  1.0  6.0  11.0  16.0\n",
       "1  2.0  7.0  12.0  19.0\n",
       "2  3.0  8.0  13.0  19.0\n",
       "3  4.0  NaN   NaN  19.0\n",
       "4  NaN  NaN   NaN   NaN"
      ]
     },
     "execution_count": 40,
     "metadata": {},
     "output_type": "execute_result"
    }
   ],
   "source": [
    "# 5 with method ffill and bfill\n",
    "df.fillna(method='ffill')\n",
    "df.fillna(method='bfill')"
   ]
  },
  {
   "cell_type": "code",
   "execution_count": null,
   "metadata": {},
   "outputs": [
    {
     "data": {
      "text/html": [
       "<div>\n",
       "<style scoped>\n",
       "    .dataframe tbody tr th:only-of-type {\n",
       "        vertical-align: middle;\n",
       "    }\n",
       "\n",
       "    .dataframe tbody tr th {\n",
       "        vertical-align: top;\n",
       "    }\n",
       "\n",
       "    .dataframe thead th {\n",
       "        text-align: right;\n",
       "    }\n",
       "</style>\n",
       "<table border=\"1\" class=\"dataframe\">\n",
       "  <thead>\n",
       "    <tr style=\"text-align: right;\">\n",
       "      <th></th>\n",
       "      <th>a</th>\n",
       "      <th>b</th>\n",
       "      <th>x</th>\n",
       "      <th>y</th>\n",
       "    </tr>\n",
       "  </thead>\n",
       "  <tbody>\n",
       "    <tr>\n",
       "      <th>count</th>\n",
       "      <td>4.000000</td>\n",
       "      <td>3.0</td>\n",
       "      <td>3.0</td>\n",
       "      <td>2.00000</td>\n",
       "    </tr>\n",
       "    <tr>\n",
       "      <th>mean</th>\n",
       "      <td>2.500000</td>\n",
       "      <td>7.0</td>\n",
       "      <td>12.0</td>\n",
       "      <td>17.50000</td>\n",
       "    </tr>\n",
       "    <tr>\n",
       "      <th>std</th>\n",
       "      <td>1.290994</td>\n",
       "      <td>1.0</td>\n",
       "      <td>1.0</td>\n",
       "      <td>2.12132</td>\n",
       "    </tr>\n",
       "    <tr>\n",
       "      <th>min</th>\n",
       "      <td>1.000000</td>\n",
       "      <td>6.0</td>\n",
       "      <td>11.0</td>\n",
       "      <td>16.00000</td>\n",
       "    </tr>\n",
       "    <tr>\n",
       "      <th>25%</th>\n",
       "      <td>1.750000</td>\n",
       "      <td>6.5</td>\n",
       "      <td>11.5</td>\n",
       "      <td>16.75000</td>\n",
       "    </tr>\n",
       "    <tr>\n",
       "      <th>50%</th>\n",
       "      <td>2.500000</td>\n",
       "      <td>7.0</td>\n",
       "      <td>12.0</td>\n",
       "      <td>17.50000</td>\n",
       "    </tr>\n",
       "    <tr>\n",
       "      <th>75%</th>\n",
       "      <td>3.250000</td>\n",
       "      <td>7.5</td>\n",
       "      <td>12.5</td>\n",
       "      <td>18.25000</td>\n",
       "    </tr>\n",
       "    <tr>\n",
       "      <th>max</th>\n",
       "      <td>4.000000</td>\n",
       "      <td>8.0</td>\n",
       "      <td>13.0</td>\n",
       "      <td>19.00000</td>\n",
       "    </tr>\n",
       "  </tbody>\n",
       "</table>\n",
       "</div>"
      ],
      "text/plain": [
       "              a    b     x         y\n",
       "count  4.000000  3.0   3.0   2.00000\n",
       "mean   2.500000  7.0  12.0  17.50000\n",
       "std    1.290994  1.0   1.0   2.12132\n",
       "min    1.000000  6.0  11.0  16.00000\n",
       "25%    1.750000  6.5  11.5  16.75000\n",
       "50%    2.500000  7.0  12.0  17.50000\n",
       "75%    3.250000  7.5  12.5  18.25000\n",
       "max    4.000000  8.0  13.0  19.00000"
      ]
     },
     "execution_count": 41,
     "metadata": {},
     "output_type": "execute_result"
    }
   ],
   "source": [
    "# 6\n",
    "df.describe()\n",
    "# std: độ lệch chuẩn\n",
    "# 25: phân vị Q1\n",
    "# 50: Phân vị Q2 hoặc trung vị\n",
    "# 75: Phân vị Q3"
   ]
  },
  {
   "cell_type": "markdown",
   "metadata": {},
   "source": [
    "#### 7: Missing values\n",
    "\n",
    "###### I. Biểu diễn\n",
    "\n",
    "1. Biểu diễn missing values\n",
    "Pandas sử dụng 2 giá trị chính để biểu diễn missing values:\n",
    "\n",
    "- NaN (Not a Number): Được sử dụng cho các kiểu dữ liệu số (float hoặc int).\n",
    "- None: Được sử dụng cho các kiểu dữ liệu đối tượng (object).\n",
    "\n",
    "2. Phát hiện missing values\n",
    "Pandas cung cấp các phương thức để phát hiện missing values:\n",
    "\n",
    "- isna(): Trả về True nếu giá trị là missing.\n",
    "- notna(): Trả về True nếu giá trị không phải là missing."
   ]
  },
  {
   "cell_type": "markdown",
   "metadata": {},
   "source": [
    "### Bài 2: xử lý giá trị ngoại lai"
   ]
  },
  {
   "cell_type": "markdown",
   "metadata": {},
   "source": [
    "##### 1. Phương pháp IQR"
   ]
  },
  {
   "cell_type": "code",
   "execution_count": 21,
   "metadata": {},
   "outputs": [
    {
     "data": {
      "text/plain": [
       "0    12\n",
       "1    13\n",
       "2    12\n",
       "3    10\n",
       "4    10\n",
       "5    11\n",
       "6    12\n",
       "7    15\n",
       "8    12\n",
       "9    16\n",
       "dtype: int64"
      ]
     },
     "execution_count": 21,
     "metadata": {},
     "output_type": "execute_result"
    }
   ],
   "source": [
    "data = np.array([12, 13, 12, 10, 10, 11, 12, 15, 12, 16])\n",
    "df = pd.Series(data)\n",
    "df"
   ]
  },
  {
   "cell_type": "code",
   "execution_count": 23,
   "metadata": {},
   "outputs": [
    {
     "data": {
      "text/plain": [
       "(np.float64(11.25), np.float64(12.0), np.float64(12.75))"
      ]
     },
     "execution_count": 23,
     "metadata": {},
     "output_type": "execute_result"
    }
   ],
   "source": [
    "# giá trị q1, q2, q3\n",
    "Q1 = df.quantile(0.25)\n",
    "Q2 = df.quantile(0.50)\n",
    "Q3 = df.quantile(0.75)\n",
    "Q1, Q2, Q3"
   ]
  },
  {
   "cell_type": "code",
   "execution_count": 24,
   "metadata": {},
   "outputs": [
    {
     "data": {
      "text/plain": [
       "np.float64(1.5)"
      ]
     },
     "execution_count": 24,
     "metadata": {},
     "output_type": "execute_result"
    }
   ],
   "source": [
    "# 2 Tính IQR\n",
    "iqr = Q3 - Q1 \n",
    "iqr"
   ]
  },
  {
   "cell_type": "code",
   "execution_count": 39,
   "metadata": {},
   "outputs": [
    {
     "data": {
      "text/plain": [
       "0    12\n",
       "1    13\n",
       "2    12\n",
       "5    11\n",
       "6    12\n",
       "7    15\n",
       "8    12\n",
       "9    16\n",
       "dtype: int64"
      ]
     },
     "execution_count": 39,
     "metadata": {},
     "output_type": "execute_result"
    }
   ],
   "source": [
    "# 3 Liệt kê phần tử ngoại lai\n",
    "lower_bound = Q1 - 1.5 * iqr\n",
    "upper_bound = Q3 - 1.5 * iqr\n",
    "\n",
    "outlier_dt = (df < lower_bound) | (df > upper_bound)\n",
    "df[outlier_dt]\n"
   ]
  },
  {
   "cell_type": "code",
   "execution_count": 42,
   "metadata": {},
   "outputs": [
    {
     "data": {
      "text/plain": [
       "3    10\n",
       "4    10\n",
       "dtype: int64"
      ]
     },
     "execution_count": 42,
     "metadata": {},
     "output_type": "execute_result"
    }
   ],
   "source": [
    "# 4. Loại bỏ phần tử ngoại lai\n",
    "df_no_outlier = df[~outlier_dt]\n",
    "df_no_outlier"
   ]
  },
  {
   "cell_type": "markdown",
   "metadata": {},
   "source": [
    "##### 2. Phương pháp Zscore"
   ]
  },
  {
   "cell_type": "code",
   "execution_count": 36,
   "metadata": {},
   "outputs": [
    {
     "name": "stdout",
     "output_type": "stream",
     "text": [
      "data set:  [10, 12, 12, 13, 12, 11, 14, 13, 15, 10, 10, 12, 100]\n",
      "outlier_datapoints of data set:  [100]\n"
     ]
    }
   ],
   "source": [
    "# 1\n",
    "import numpy as np\n",
    "# 2\n",
    "import pandas as pd\n",
    "# 3\n",
    "dataset = [10, 12, 12, 13, 12, 11, 14, 13, 15, 10, 10, 12, 100]\n",
    "# 4\n",
    "outliers = []\n",
    "\n",
    "# 5\n",
    "def detect_outlier(data_1):\n",
    "    # 5.1\n",
    "    threshold = 3\n",
    "    # 5.2\n",
    "    mean_1 = np.mean(data_1)\n",
    "    # 5.3\n",
    "    std_1 = np.std(data_1)\n",
    "    # 5.4\n",
    "    for y in data_1:\n",
    "        # 5.4.1\n",
    "        z_score = (y - mean_1) / std_1\n",
    "        # 5.4.2\n",
    "        if np.abs(z_score) > threshold:\n",
    "            # 5.4.3\n",
    "            outliers.append(y)\n",
    "    # 5.5\n",
    "    return outliers\n",
    "\n",
    "# 6\n",
    "outlier_datapoints = detect_outlier(dataset)\n",
    "# 7\n",
    "print('data set: ', dataset)\n",
    "# 8\n",
    "print('outlier_datapoints of data set: ', outlier_datapoints)"
   ]
  },
  {
   "cell_type": "markdown",
   "metadata": {},
   "source": [
    "1. Giải thích từng lệnh\n",
    "\n",
    "| Mã | Dòng lệnh | Giải thích |\n",
    "|------|-----------|-------------|\n",
    "|1| `import numpy as np` | Nhập thư viện NumPy, được sử dụng cho các phép toán số học trong Python. |\n",
    "|2| `import pandas as pd` | Nhập thư viện Pandas, được sử dụng để thao tác và phân tích dữ liệu trong Python. |\n",
    "|3| `dataset = [10, 12, 12, 13, 12, 11, 14, 13, 15, 10, 10, 12, 100]` | Tạo một danh sách dữ liệu mẫu `dataset`. |\n",
    "|4| `outliers = []` | Tạo một danh sách rỗng `outliers` để lưu trữ các giá trị ngoại lệ. |\n",
    "|5| `def detect_outlier(data_1):` | Định nghĩa một hàm `detect_outlier` để phát hiện các giá trị ngoại lệ trong danh sách `data_1`. |\n",
    "|5.1| `threshold = 3` | Đặt ngưỡng `threshold` là 3, giá trị này sẽ được sử dụng để xác định các giá trị ngoại lệ. |\n",
    "|5.2| `mean_1 = np.mean(data_1)` | Tính giá trị trung bình `mean_1` của danh sách `data_1` bằng cách sử dụng hàm `mean` của NumPy. |\n",
    "|5.3| `std_1 = np.std(data_1)` | Tính độ lệch chuẩn `std_1` của danh sách `data_1` bằng cách sử dụng hàm `std` của NumPy. |\n",
    "|5.4| `for y in data_1:` | Bắt đầu một vòng lặp để duyệt qua từng phần tử `y` trong danh sách `data_1`. |\n",
    "|5.4.1| `z_score = (y - mean_1) / std_1` | Tính điểm z `z_score` của phần tử `y`, dựa trên giá trị trung bình `mean_1` và độ lệch chuẩn `std_1`. |\n",
    "|5.4.2| `if np.abs(z_score) > threshold:` | Kiểm tra nếu giá trị tuyệt đối của `z_score` lớn hơn ngưỡng `threshold`. |\n",
    "|5.4.3| `outliers.append(y)` | Nếu điều kiện trên đúng, thêm phần tử `y` vào danh sách `outliers`. |\n",
    "|5.5| `return outliers` | Trả về danh sách các giá trị ngoại lệ `outliers`. |\n",
    "|6| `outlier_datapoints = detect_outlier(dataset)` | Gọi hàm `detect_outlier` với danh sách `dataset` và lưu trữ kết quả vào biến `outlier_datapoints`. |\n",
    "|7| `print('data set: ', dataset)` | In ra danh sách dữ liệu mẫu `dataset`. |\n",
    "|8| `print('outlier_datapoints of data set: ', outlier_datapoints)` | In ra các giá trị ngoại lệ `outlier_datapoints` của danh sách dữ liệu mẫu `dataset`. |"
   ]
  },
  {
   "cell_type": "code",
   "execution_count": null,
   "metadata": {},
   "outputs": [
    {
     "data": {
      "text/plain": [
       "[10, 12, 12, 13, 12, 11, 14, 13, 15, 10, 10, 12]"
      ]
     },
     "execution_count": 53,
     "metadata": {},
     "output_type": "execute_result"
    }
   ],
   "source": [
    "# 2. Đưa ra tập dữ liệu sau khi xóa phần tử ngoại lai\n",
    "dataset_no_outliers = [x for x in dataset if x not in outlier_datapoints]\n",
    "dataset_no_outliers"
   ]
  },
  {
   "cell_type": "markdown",
   "metadata": {},
   "source": [
    "3. Báo áo về phương pháp Zscore\n",
    "\n",
    "3.1 Giới Thiệu\n",
    "Giá trị ngoại lai là những điểm dữ liệu khác biệt đáng kể so với các quan sát khác trong tập dữ liệu. Chúng có thể xuất hiện do lỗi nhập liệu, sự khác biệt trong điều kiện thí nghiệm, hoặc các yếu tố bất thường khác. Việc phát hiện và xử lý giá trị ngoại lai là một bước quan trọng trong quá trình phân tích dữ liệu để đảm bảo tính chính xác và độ tin cậy của kết quả.\n",
    "\n",
    "3.2. Phương Pháp Z-score\n",
    "Phương pháp Z-score là một kỹ thuật phổ biến để phát hiện giá trị ngoại lai. Z-score đo lường khoảng cách của một điểm dữ liệu so với giá trị trung bình của tập dữ liệu, tính theo đơn vị độ lệch chuẩn. Công thức tính Z-score cho một điểm dữ liệu \\( x \\) là:\n",
    "\n",
    "Z = (y<sub>i</sub> - mean(y)) / std(y)\n",
    "\n",
    "Trong đó:\n",
    "- mean(y) là giá trị trung bình của tập dữ liệu.\n",
    "- std(y) là độ lệch chuẩn của tập dữ liệu.\n",
    "\n",
    "Nếu giá trị tuyệt đối của Z-score lớn hơn một ngưỡng nhất định (thường là 3), điểm dữ liệu đó được coi là giá trị ngoại lai.\n",
    "\n",
    "3.3 Kết Luận\n",
    "Phương pháp Z-score là một công cụ mạnh mẽ và dễ sử dụng để phát hiện giá trị ngoại lai trong tập dữ liệu. Bằng cách loại bỏ hoặc xử lý các giá trị ngoại lai, chúng ta có thể cải thiện chất lượng và độ tin cậy của phân tích dữ liệu. Tuy nhiên, cần lưu ý rằng việc lựa chọn ngưỡng Z-score phù hợp là rất quan trọng và có thể cần điều chỉnh tùy thuộc vào đặc điểm cụ thể của tập dữ liệu."
   ]
  },
  {
   "cell_type": "markdown",
   "metadata": {},
   "source": [
    "##### 3. Phương pháp dựa vào trung vị"
   ]
  },
  {
   "cell_type": "code",
   "execution_count": 2,
   "metadata": {},
   "outputs": [
    {
     "data": {
      "text/html": [
       "<div>\n",
       "<style scoped>\n",
       "    .dataframe tbody tr th:only-of-type {\n",
       "        vertical-align: middle;\n",
       "    }\n",
       "\n",
       "    .dataframe tbody tr th {\n",
       "        vertical-align: top;\n",
       "    }\n",
       "\n",
       "    .dataframe thead th {\n",
       "        text-align: right;\n",
       "    }\n",
       "</style>\n",
       "<table border=\"1\" class=\"dataframe\">\n",
       "  <thead>\n",
       "    <tr style=\"text-align: right;\">\n",
       "      <th></th>\n",
       "      <th>Object</th>\n",
       "      <th>Income</th>\n",
       "      <th>Age</th>\n",
       "      <th>Class</th>\n",
       "    </tr>\n",
       "  </thead>\n",
       "  <tbody>\n",
       "    <tr>\n",
       "      <th>0</th>\n",
       "      <td>1</td>\n",
       "      <td>3000000</td>\n",
       "      <td>23</td>\n",
       "      <td>Y</td>\n",
       "    </tr>\n",
       "    <tr>\n",
       "      <th>1</th>\n",
       "      <td>2</td>\n",
       "      <td>9600000</td>\n",
       "      <td>56</td>\n",
       "      <td>N</td>\n",
       "    </tr>\n",
       "    <tr>\n",
       "      <th>2</th>\n",
       "      <td>3</td>\n",
       "      <td>4700000</td>\n",
       "      <td>43</td>\n",
       "      <td>Y</td>\n",
       "    </tr>\n",
       "    <tr>\n",
       "      <th>3</th>\n",
       "      <td>4</td>\n",
       "      <td>7000000</td>\n",
       "      <td>30</td>\n",
       "      <td>N</td>\n",
       "    </tr>\n",
       "    <tr>\n",
       "      <th>4</th>\n",
       "      <td>5</td>\n",
       "      <td>6200000</td>\n",
       "      <td>65</td>\n",
       "      <td>N</td>\n",
       "    </tr>\n",
       "    <tr>\n",
       "      <th>5</th>\n",
       "      <td>6</td>\n",
       "      <td>2200000</td>\n",
       "      <td>26</td>\n",
       "      <td>Y</td>\n",
       "    </tr>\n",
       "    <tr>\n",
       "      <th>6</th>\n",
       "      <td>7</td>\n",
       "      <td>6600000</td>\n",
       "      <td>38</td>\n",
       "      <td>N</td>\n",
       "    </tr>\n",
       "    <tr>\n",
       "      <th>7</th>\n",
       "      <td>8</td>\n",
       "      <td>2000000</td>\n",
       "      <td>31</td>\n",
       "      <td>Y</td>\n",
       "    </tr>\n",
       "    <tr>\n",
       "      <th>8</th>\n",
       "      <td>9</td>\n",
       "      <td>6300000</td>\n",
       "      <td>37</td>\n",
       "      <td>Y</td>\n",
       "    </tr>\n",
       "    <tr>\n",
       "      <th>9</th>\n",
       "      <td>10</td>\n",
       "      <td>7000000</td>\n",
       "      <td>42</td>\n",
       "      <td>N</td>\n",
       "    </tr>\n",
       "    <tr>\n",
       "      <th>10</th>\n",
       "      <td>11</td>\n",
       "      <td>8000000</td>\n",
       "      <td>47</td>\n",
       "      <td>N</td>\n",
       "    </tr>\n",
       "    <tr>\n",
       "      <th>11</th>\n",
       "      <td>12</td>\n",
       "      <td>100000000</td>\n",
       "      <td>51</td>\n",
       "      <td>Y</td>\n",
       "    </tr>\n",
       "  </tbody>\n",
       "</table>\n",
       "</div>"
      ],
      "text/plain": [
       "    Object     Income  Age Class\n",
       "0        1    3000000   23     Y\n",
       "1        2    9600000   56     N\n",
       "2        3    4700000   43     Y\n",
       "3        4    7000000   30     N\n",
       "4        5    6200000   65     N\n",
       "5        6    2200000   26     Y\n",
       "6        7    6600000   38     N\n",
       "7        8    2000000   31     Y\n",
       "8        9    6300000   37     Y\n",
       "9       10    7000000   42     N\n",
       "10      11    8000000   47     N\n",
       "11      12  100000000   51     Y"
      ]
     },
     "execution_count": 2,
     "metadata": {},
     "output_type": "execute_result"
    },
    {
     "data": {
      "image/png": "[encoded data removed]",
      "text/plain": [
       "<Figure size 640x480 with 1 Axes>"
      ]
     },
     "metadata": {},
     "output_type": "display_data"
    }
   ],
   "source": [
    "df = pd.read_csv('data/lab2/bai3_median.csv')\n",
    "sns.boxplot(df['Income'])\n",
    "df"
   ]
  },
  {
   "cell_type": "code",
   "execution_count": 23,
   "metadata": {},
   "outputs": [],
   "source": [
    "def outlier_median(data):\n",
    "    if not len(data): return []\n",
    "    thresh = 4.5\n",
    "    outliers = []\n",
    "    median_x = np.median(data)\n",
    "    dis = [np.abs(x - median_x) for x in data]\n",
    "        \n",
    "    md = np.median(dis)\n",
    "    for i, di in enumerate(dis): \n",
    "        ti = di / md\n",
    "        if ti > thresh:\n",
    "            outliers.append(data[i])\n",
    "    \n",
    "    return outliers "
   ]
  },
  {
   "cell_type": "code",
   "execution_count": 24,
   "metadata": {},
   "outputs": [
    {
     "data": {
      "text/plain": [
       "[np.int64(100000000)]"
      ]
     },
     "execution_count": 24,
     "metadata": {},
     "output_type": "execute_result"
    }
   ],
   "source": [
    "outlier_median(df['Income'])\n",
    "# df['Income']"
   ]
  },
  {
   "cell_type": "markdown",
   "metadata": {},
   "source": [
    "### Bài 3: Giảm chiều dữ liệu"
   ]
  },
  {
   "cell_type": "code",
   "execution_count": 26,
   "metadata": {},
   "outputs": [
    {
     "data": {
      "text/html": [
       "<div>\n",
       "<style scoped>\n",
       "    .dataframe tbody tr th:only-of-type {\n",
       "        vertical-align: middle;\n",
       "    }\n",
       "\n",
       "    .dataframe tbody tr th {\n",
       "        vertical-align: top;\n",
       "    }\n",
       "\n",
       "    .dataframe thead th {\n",
       "        text-align: right;\n",
       "    }\n",
       "</style>\n",
       "<table border=\"1\" class=\"dataframe\">\n",
       "  <thead>\n",
       "    <tr style=\"text-align: right;\">\n",
       "      <th></th>\n",
       "      <th>Object</th>\n",
       "      <th>Income</th>\n",
       "      <th>Age</th>\n",
       "      <th>Class</th>\n",
       "    </tr>\n",
       "  </thead>\n",
       "  <tbody>\n",
       "    <tr>\n",
       "      <th>0</th>\n",
       "      <td>1</td>\n",
       "      <td>3000000</td>\n",
       "      <td>23</td>\n",
       "      <td>Y</td>\n",
       "    </tr>\n",
       "    <tr>\n",
       "      <th>1</th>\n",
       "      <td>2</td>\n",
       "      <td>9600000</td>\n",
       "      <td>56</td>\n",
       "      <td>N</td>\n",
       "    </tr>\n",
       "    <tr>\n",
       "      <th>2</th>\n",
       "      <td>3</td>\n",
       "      <td>4700000</td>\n",
       "      <td>43</td>\n",
       "      <td>Y</td>\n",
       "    </tr>\n",
       "    <tr>\n",
       "      <th>3</th>\n",
       "      <td>4</td>\n",
       "      <td>7000000</td>\n",
       "      <td>30</td>\n",
       "      <td>N</td>\n",
       "    </tr>\n",
       "    <tr>\n",
       "      <th>4</th>\n",
       "      <td>5</td>\n",
       "      <td>6200000</td>\n",
       "      <td>65</td>\n",
       "      <td>N</td>\n",
       "    </tr>\n",
       "    <tr>\n",
       "      <th>5</th>\n",
       "      <td>6</td>\n",
       "      <td>2200000</td>\n",
       "      <td>26</td>\n",
       "      <td>Y</td>\n",
       "    </tr>\n",
       "    <tr>\n",
       "      <th>6</th>\n",
       "      <td>7</td>\n",
       "      <td>6600000</td>\n",
       "      <td>38</td>\n",
       "      <td>N</td>\n",
       "    </tr>\n",
       "    <tr>\n",
       "      <th>7</th>\n",
       "      <td>8</td>\n",
       "      <td>2000000</td>\n",
       "      <td>31</td>\n",
       "      <td>Y</td>\n",
       "    </tr>\n",
       "    <tr>\n",
       "      <th>8</th>\n",
       "      <td>9</td>\n",
       "      <td>6300000</td>\n",
       "      <td>37</td>\n",
       "      <td>Y</td>\n",
       "    </tr>\n",
       "    <tr>\n",
       "      <th>9</th>\n",
       "      <td>10</td>\n",
       "      <td>7000000</td>\n",
       "      <td>42</td>\n",
       "      <td>N</td>\n",
       "    </tr>\n",
       "    <tr>\n",
       "      <th>10</th>\n",
       "      <td>11</td>\n",
       "      <td>8000000</td>\n",
       "      <td>47</td>\n",
       "      <td>N</td>\n",
       "    </tr>\n",
       "    <tr>\n",
       "      <th>11</th>\n",
       "      <td>12</td>\n",
       "      <td>100000000</td>\n",
       "      <td>51</td>\n",
       "      <td>Y</td>\n",
       "    </tr>\n",
       "  </tbody>\n",
       "</table>\n",
       "</div>"
      ],
      "text/plain": [
       "    Object     Income  Age Class\n",
       "0        1    3000000   23     Y\n",
       "1        2    9600000   56     N\n",
       "2        3    4700000   43     Y\n",
       "3        4    7000000   30     N\n",
       "4        5    6200000   65     N\n",
       "5        6    2200000   26     Y\n",
       "6        7    6600000   38     N\n",
       "7        8    2000000   31     Y\n",
       "8        9    6300000   37     Y\n",
       "9       10    7000000   42     N\n",
       "10      11    8000000   47     N\n",
       "11      12  100000000   51     Y"
      ]
     },
     "execution_count": 26,
     "metadata": {},
     "output_type": "execute_result"
    }
   ],
   "source": [
    "df = pd.read_csv('data/lab2/bai3_median.csv')\n",
    "df"
   ]
  },
  {
   "cell_type": "code",
   "execution_count": 43,
   "metadata": {},
   "outputs": [
    {
     "data": {
      "text/html": [
       "<div>\n",
       "<style scoped>\n",
       "    .dataframe tbody tr th:only-of-type {\n",
       "        vertical-align: middle;\n",
       "    }\n",
       "\n",
       "    .dataframe tbody tr th {\n",
       "        vertical-align: top;\n",
       "    }\n",
       "\n",
       "    .dataframe thead th {\n",
       "        text-align: right;\n",
       "    }\n",
       "</style>\n",
       "<table border=\"1\" class=\"dataframe\">\n",
       "  <thead>\n",
       "    <tr style=\"text-align: right;\">\n",
       "      <th></th>\n",
       "      <th>Object</th>\n",
       "      <th>Income</th>\n",
       "      <th>Age</th>\n",
       "      <th>Class</th>\n",
       "    </tr>\n",
       "  </thead>\n",
       "  <tbody>\n",
       "    <tr>\n",
       "      <th>0</th>\n",
       "      <td>1</td>\n",
       "      <td>3000000.0</td>\n",
       "      <td>23</td>\n",
       "      <td>Y</td>\n",
       "    </tr>\n",
       "    <tr>\n",
       "      <th>1</th>\n",
       "      <td>2</td>\n",
       "      <td>9600000.0</td>\n",
       "      <td>56</td>\n",
       "      <td>N</td>\n",
       "    </tr>\n",
       "    <tr>\n",
       "      <th>2</th>\n",
       "      <td>3</td>\n",
       "      <td>4700000.0</td>\n",
       "      <td>43</td>\n",
       "      <td>Y</td>\n",
       "    </tr>\n",
       "    <tr>\n",
       "      <th>3</th>\n",
       "      <td>4</td>\n",
       "      <td>7000000.0</td>\n",
       "      <td>30</td>\n",
       "      <td>N</td>\n",
       "    </tr>\n",
       "    <tr>\n",
       "      <th>4</th>\n",
       "      <td>5</td>\n",
       "      <td>6200000.0</td>\n",
       "      <td>65</td>\n",
       "      <td>N</td>\n",
       "    </tr>\n",
       "    <tr>\n",
       "      <th>5</th>\n",
       "      <td>6</td>\n",
       "      <td>2200000.0</td>\n",
       "      <td>26</td>\n",
       "      <td>Y</td>\n",
       "    </tr>\n",
       "    <tr>\n",
       "      <th>6</th>\n",
       "      <td>7</td>\n",
       "      <td>6600000.0</td>\n",
       "      <td>38</td>\n",
       "      <td>N</td>\n",
       "    </tr>\n",
       "    <tr>\n",
       "      <th>7</th>\n",
       "      <td>8</td>\n",
       "      <td>2000000.0</td>\n",
       "      <td>31</td>\n",
       "      <td>Y</td>\n",
       "    </tr>\n",
       "    <tr>\n",
       "      <th>8</th>\n",
       "      <td>9</td>\n",
       "      <td>6300000.0</td>\n",
       "      <td>37</td>\n",
       "      <td>Y</td>\n",
       "    </tr>\n",
       "    <tr>\n",
       "      <th>9</th>\n",
       "      <td>10</td>\n",
       "      <td>7000000.0</td>\n",
       "      <td>42</td>\n",
       "      <td>N</td>\n",
       "    </tr>\n",
       "    <tr>\n",
       "      <th>10</th>\n",
       "      <td>11</td>\n",
       "      <td>8000000.0</td>\n",
       "      <td>47</td>\n",
       "      <td>N</td>\n",
       "    </tr>\n",
       "    <tr>\n",
       "      <th>11</th>\n",
       "      <td>12</td>\n",
       "      <td>6450000.0</td>\n",
       "      <td>51</td>\n",
       "      <td>Y</td>\n",
       "    </tr>\n",
       "  </tbody>\n",
       "</table>\n",
       "</div>"
      ],
      "text/plain": [
       "    Object     Income  Age Class\n",
       "0        1  3000000.0   23     Y\n",
       "1        2  9600000.0   56     N\n",
       "2        3  4700000.0   43     Y\n",
       "3        4  7000000.0   30     N\n",
       "4        5  6200000.0   65     N\n",
       "5        6  2200000.0   26     Y\n",
       "6        7  6600000.0   38     N\n",
       "7        8  2000000.0   31     Y\n",
       "8        9  6300000.0   37     Y\n",
       "9       10  7000000.0   42     N\n",
       "10      11  8000000.0   47     N\n",
       "11      12  6450000.0   51     Y"
      ]
     },
     "execution_count": 43,
     "metadata": {},
     "output_type": "execute_result"
    }
   ],
   "source": [
    "outliers = detect_outlier(df['Income'])\n",
    "df['Income'] = [x if x not in outliers else df['Income'].median()\n",
    "                for x in df['Income']]\n",
    "df"
   ]
  },
  {
   "cell_type": "code",
   "execution_count": 42,
   "metadata": {},
   "outputs": [
    {
     "data": {
      "text/plain": [
       "np.float64(0.3511552695176641)"
      ]
     },
     "execution_count": 42,
     "metadata": {},
     "output_type": "execute_result"
    }
   ],
   "source": [
    "corr = df['Income'].corr(df['Age'], method='kendall') \n",
    "corr"
   ]
  },
  {
   "cell_type": "code",
   "execution_count": 40,
   "metadata": {},
   "outputs": [
    {
     "data": {
      "image/png": "[encoded data removed]",
      "text/plain": [
       "<Figure size 800x600 with 1 Axes>"
      ]
     },
     "metadata": {},
     "output_type": "display_data"
    }
   ],
   "source": [
    "plt.figure(figsize=(8, 6))\n",
    "sns.scatterplot(x=df['Age'], y=df['Income'],\n",
    "                hue=df['Class'], palette='viridis')\n",
    "plt.title(\"Mối quan hệ giữa Income và Age\")\n",
    "plt.xlabel(\"Age\")\n",
    "plt.ylabel(\"Income\")\n",
    "plt.grid(True)\n",
    "plt.show()"
   ]
  },
  {
   "cell_type": "markdown",
   "metadata": {},
   "source": [
    "### 4. Rời rạc hóa dữ liệu"
   ]
  },
  {
   "cell_type": "code",
   "execution_count": null,
   "metadata": {},
   "outputs": [
    {
     "name": "stdout",
     "output_type": "stream",
     "text": [
      "[(18, 25], (18, 25], (18, 25], (25, 35], (18, 25], ..., (25, 35], (60, 100], (35, 60], (35, 60], (25, 35]]\n",
      "Length: 12\n",
      "Categories (4, interval[int64, right]): [(18, 25] < (25, 35] < (35, 60] < (60, 100]]\n",
      "codes [0 0 0 1 0 0 2 1 3 2 2 1]\n",
      "categories IntervalIndex([(18, 25], (25, 35], (35, 60], (60, 100]], dtype='interval[int64, right]')\n",
      "counts \n",
      " (18, 25]     5\n",
      "(25, 35]     3\n",
      "(35, 60]     3\n",
      "(60, 100]    1\n",
      "Name: count, dtype: int64\n"
     ]
    }
   ],
   "source": [
    "# Câu 4.1\n",
    "# 1\n",
    "ages = [20, 22, 25, 27, 21, 23, 37, 31, 61, 45, 41, 32]\n",
    "# 2\n",
    "bins = [18, 25, 35, 60, 100]\n",
    "# 3\n",
    "cats = pd.cut(ages, bins)\n",
    "# 4\n",
    "print(cats)\n",
    "# 5\n",
    "print('codes', cats.codes)\n",
    "# 6\n",
    "print('categories', cats.categories)\n",
    "# 7\n",
    "print('counts \\n', cats.value_counts())"
   ]
  },
  {
   "cell_type": "markdown",
   "metadata": {},
   "source": [
    "4.  1.2. Giải Thích Mã Nguồn\n",
    "\n",
    "| Mã | Code | Giải Thích |\n",
    "|----|------|------------|\n",
    "| 1  | `ages = [20, 22, 25, 27, 21, 23, 37, 31, 61, 45, 41, 32]` | Khởi tạo danh sách `ages` chứa các độ tuổi khác nhau. |\n",
    "| 2  | `bins = [18, 25, 35, 60, 100]` | Khởi tạo danh sách `bins` chứa các khoảng giá trị để phân loại độ tuổi. |\n",
    "| 3  | `cats = pd.cut(ages, bins)` | Sử dụng hàm `pd.cut` của pandas để phân loại các độ tuổi trong `ages` vào các khoảng giá trị trong `bins`. |\n",
    "| 4  | `print(cats)` | In ra kết quả phân loại các độ tuổi. |\n",
    "| 5  | `print('codes', cats.codes)` | In ra mã số của các khoảng giá trị mà mỗi độ tuổi thuộc về. |\n",
    "| 6  | `print('categories', cats.categories)` | In ra các khoảng giá trị (categories) được sử dụng để phân loại độ tuổi. |\n",
    "| 7  | `print('counts \\n', cats.value_counts())` | In ra số lượng độ tuổi trong mỗi khoảng giá trị. |"
   ]
  },
  {
   "cell_type": "code",
   "execution_count": null,
   "metadata": {},
   "outputs": [
    {
     "name": "stdout",
     "output_type": "stream",
     "text": [
      "[[18, 26), [18, 26), [18, 26), [26, 36), [18, 26), ..., [26, 36), [61, 100), [36, 61), [36, 61), [26, 36)]\n",
      "Length: 12\n",
      "Categories (4, interval[int64, left]): [[18, 26) < [26, 36) < [36, 61) < [61, 100)]\n",
      "codes [0 0 0 1 0 0 2 1 3 2 2 1]\n",
      "categories IntervalIndex([[18, 26), [26, 36), [36, 61), [61, 100)], dtype='interval[int64, left]')\n",
      "counts \n",
      " [18, 26)     5\n",
      "[26, 36)     3\n",
      "[36, 61)     3\n",
      "[61, 100)    1\n",
      "Name: count, dtype: int64\n"
     ]
    }
   ],
   "source": [
    "# Câu 4.2\n",
    "cats1 = pd.cut(ages,  [18, 26, 36, 61, 100], right=False)\n",
    "print(cats1)\n",
    "print('codes', cats1.codes)\n",
    "print('categories', cats1.categories)\n",
    "print('counts \\n', cats1.value_counts())"
   ]
  },
  {
   "cell_type": "markdown",
   "metadata": {},
   "source": [
    "4. 2.2 Giải thích kết quả\n",
    "\n",
    "- Khoảng đã được đóng bên trái thay vì bên phải (mặc định) "
   ]
  },
  {
   "cell_type": "code",
   "execution_count": 12,
   "metadata": {},
   "outputs": [
    {
     "name": "stdout",
     "output_type": "stream",
     "text": [
      "['Youth', 'Youth', 'Youth', 'YoungAdult', 'Youth', ..., 'YoungAdult', 'Senior', 'MiddleAged', 'MiddleAged', 'YoungAdult']\n",
      "Length: 12\n",
      "Categories (4, object): ['Youth' < 'YoungAdult' < 'MiddleAged' < 'Senior']\n",
      "codes [0 0 0 1 0 0 2 1 3 2 2 1]\n",
      "categories Index(['Youth', 'YoungAdult', 'MiddleAged', 'Senior'], dtype='object')\n",
      "counts \n",
      " Youth         5\n",
      "YoungAdult    3\n",
      "MiddleAged    3\n",
      "Senior        1\n",
      "Name: count, dtype: int64\n"
     ]
    }
   ],
   "source": [
    "# Câu 4.3\n",
    "group_names = ['Youth', 'YoungAdult', 'MiddleAged', 'Senior']\n",
    "cats2 = pd.cut(ages, bins, labels=group_names) \n",
    "print(cats2)\n",
    "print('codes', cats2.codes)\n",
    "print('categories', cats2.categories)\n",
    "print('counts \\n', cats2.value_counts())"
   ]
  },
  {
   "cell_type": "markdown",
   "metadata": {},
   "source": [
    "4. 3.2 Giải thích kết quả\n",
    "\n",
    "- Các nhóm(khoảng) đã được thay thế bằng tên trong group_names"
   ]
  },
  {
   "cell_type": "markdown",
   "metadata": {},
   "source": [
    "### Bài 5"
   ]
  },
  {
   "cell_type": "code",
   "execution_count": null,
   "metadata": {},
   "outputs": [
    {
     "data": {
      "text/plain": [
       "array([0.32654785, 0.9759914 , 0.18183486, 0.05184243, 0.38759016,\n",
       "       0.75020242, 0.32001715, 0.65113757, 0.90228971, 0.83028749,\n",
       "       0.21858775, 0.60014818, 0.97270292, 0.18383558, 0.1945078 ,\n",
       "       0.18998008, 0.9409265 , 0.19628606, 0.86146157, 0.9514933 ])"
      ]
     },
     "execution_count": 13,
     "metadata": {},
     "output_type": "execute_result"
    }
   ],
   "source": [
    "new_dt = np.random.rand(20)"
   ]
  },
  {
   "cell_type": "code",
   "execution_count": 20,
   "metadata": {},
   "outputs": [
    {
     "data": {
      "text/plain": [
       "[(0.28, 0.51], (0.74, 0.98], (0.051, 0.28], (0.051, 0.28], (0.28, 0.51], ..., (0.051, 0.28], (0.74, 0.98], (0.051, 0.28], (0.74, 0.98], (0.74, 0.98]]\n",
       "Length: 20\n",
       "Categories (4, interval[float64, right]): [(0.051, 0.28] < (0.28, 0.51] < (0.51, 0.74] < (0.74, 0.98]]"
      ]
     },
     "execution_count": 20,
     "metadata": {},
     "output_type": "execute_result"
    }
   ],
   "source": [
    "# a \n",
    "cats3 = pd.cut(new_dt, 4, precision=2)\n",
    "cats3"
   ]
  },
  {
   "cell_type": "code",
   "execution_count": 17,
   "metadata": {},
   "outputs": [
    {
     "data": {
      "text/plain": [
       "[(0.283, 0.514], (0.745, 0.976], (0.0509, 0.283], (0.0509, 0.283], (0.283, 0.514], ..., (0.0509, 0.283], (0.745, 0.976], (0.0509, 0.283], (0.745, 0.976], (0.745, 0.976]]\n",
       "Length: 20\n",
       "Categories (4, interval[float64, right]): [(0.0509, 0.283] < (0.283, 0.514] < (0.514, 0.745] < (0.745, 0.976]]"
      ]
     },
     "execution_count": 17,
     "metadata": {},
     "output_type": "execute_result"
    }
   ],
   "source": [
    "# b \n",
    "cats4 = pd.cut(new_dt, 4)\n",
    "cats4"
   ]
  }
 ],
 "metadata": {
  "kernelspec": {
   "display_name": ".venv",
   "language": "python",
   "name": "python3"
  },
  "language_info": {
   "codemirror_mode": {
    "name": "ipython",
    "version": 3
   },
   "file_extension": ".py",
   "mimetype": "text/x-python",
   "name": "python",
   "nbconvert_exporter": "python",
   "pygments_lexer": "ipython3",
   "version": "3.12.2"
  }
 },
 "nbformat": 4,
 "nbformat_minor": 2
}
